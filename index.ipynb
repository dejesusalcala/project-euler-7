{
 "cells": [
  {
   "attachments": {},
   "cell_type": "markdown",
   "metadata": {},
   "source": [
    "# Project Euler"
   ]
  },
  {
   "attachments": {},
   "cell_type": "markdown",
   "metadata": {},
   "source": [
    "### Problem 7: 10001st Prime"
   ]
  },
  {
   "attachments": {},
   "cell_type": "markdown",
   "metadata": {},
   "source": [
    "By listing the first six prime numbers: 2, 3, 5, 7, 11, and 13, we can see that the 6th prime is 13.\n",
    "\n",
    "What is the 10,001st prime number?"
   ]
  },
  {
   "cell_type": "markdown",
   "metadata": {},
   "source": []
  },
  {
   "cell_type": "code",
   "execution_count": 80,
   "metadata": {},
   "outputs": [
    {
     "data": {
      "text/plain": [
       "Prime (generic function with 1 method)"
      ]
     },
     "metadata": {},
     "output_type": "display_data"
    }
   ],
   "source": [
    "function Prime(n)\n",
    "\n",
    "#' @@name Prime\n",
    "#' \n",
    "#' @@description \n",
    "#' \n",
    "#' This function finds the nth prime numbers\n",
    "#'\n",
    "#' @@arg n: A positive integer n\n",
    "#'\n",
    "#' @@return The nth prime number\n",
    "#'\n",
    "#' @@examples\n",
    "#'\n",
    "#' n = 13\n",
    "#' Prime(n)\n",
    "\n",
    "    function is_prime(m)\n",
    "    # This function checks if m is prime\n",
    "    \n",
    "        bool = true\n",
    "        k = 2\n",
    "        if m == 0\n",
    "            bool = false\n",
    "        elseif m == 1\n",
    "            bool = false  \n",
    "        elseif m == 2\n",
    "            bool = true\n",
    "        end\n",
    "    \n",
    "        while k < m\n",
    "            if m%k == 0\n",
    "                bool = false\n",
    "                break\n",
    "            end\n",
    "            k = k + 1\n",
    "        end\n",
    "        return bool\n",
    "    end\n",
    "\n",
    "    prime_vector = []\n",
    "    i = 0\n",
    "\n",
    "    while true\n",
    "\n",
    "        if is_prime(i)\n",
    "            prime_vector = push!(prime_vector, i)\n",
    "        end\n",
    "        \n",
    "        if length(prime_vector) == n\n",
    "            break\n",
    "        end\n",
    "        i = i + 1\n",
    "    end\n",
    "\n",
    "    prime = prime_vector[n]\n",
    "    \n",
    "    return prime\n",
    "end"
   ]
  },
  {
   "attachments": {},
   "cell_type": "markdown",
   "metadata": {},
   "source": [
    "Let's now test our code with the given example"
   ]
  },
  {
   "cell_type": "code",
   "execution_count": 92,
   "metadata": {},
   "outputs": [
    {
     "data": {
      "text/plain": [
       "13"
      ]
     },
     "metadata": {},
     "output_type": "display_data"
    }
   ],
   "source": [
    "Prime(6)"
   ]
  },
  {
   "attachments": {},
   "cell_type": "markdown",
   "metadata": {},
   "source": [
    "Therefore we can see that the 6th prime number is 13 which is correct."
   ]
  },
  {
   "attachments": {},
   "cell_type": "markdown",
   "metadata": {},
   "source": [
    "Let's now find the 10,001st prime number"
   ]
  },
  {
   "cell_type": "code",
   "execution_count": 93,
   "metadata": {},
   "outputs": [
    {
     "data": {
      "text/plain": [
       "104743"
      ]
     },
     "metadata": {},
     "output_type": "display_data"
    }
   ],
   "source": [
    "Prime(10001)"
   ]
  },
  {
   "attachments": {},
   "cell_type": "markdown",
   "metadata": {},
   "source": [
    "Therefore we have that the 10,001st prime number is 104,743."
   ]
  }
 ],
 "metadata": {
  "kernelspec": {
   "display_name": "Julia 1.8.3",
   "language": "julia",
   "name": "julia-1.8"
  },
  "language_info": {
   "file_extension": ".jl",
   "mimetype": "application/julia",
   "name": "julia",
   "version": "1.8.3"
  },
  "orig_nbformat": 4
 },
 "nbformat": 4,
 "nbformat_minor": 2
}
